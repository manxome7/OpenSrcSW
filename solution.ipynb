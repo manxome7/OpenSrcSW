{
 "cells": [
  {
   "cell_type": "code",
   "execution_count": 9,
   "id": "b1d02063",
   "metadata": {},
   "outputs": [
    {
     "name": "stdout",
     "output_type": "stream",
     "text": [
      "(1, 2)\n",
      "(3, 4)\n",
      "(4, 6)\n"
     ]
    },
    {
     "ename": "AttributeError",
     "evalue": "'NoneType' object has no attribute 'show'",
     "output_type": "error",
     "traceback": [
      "\u001b[1;31m---------------------------------------------------------------------------\u001b[0m",
      "\u001b[1;31mAttributeError\u001b[0m                            Traceback (most recent call last)",
      "\u001b[1;32m<ipython-input-9-b0cc8418e708>\u001b[0m in \u001b[0;36m<module>\u001b[1;34m\u001b[0m\n\u001b[0;32m     22\u001b[0m \u001b[1;33m\u001b[0m\u001b[0m\n\u001b[0;32m     23\u001b[0m \u001b[0ma\u001b[0m \u001b[1;33m=\u001b[0m \u001b[0ma\u001b[0m\u001b[1;33m+\u001b[0m\u001b[0mb\u001b[0m\u001b[1;33m\u001b[0m\u001b[1;33m\u001b[0m\u001b[0m\n\u001b[1;32m---> 24\u001b[1;33m \u001b[0ma\u001b[0m\u001b[1;33m.\u001b[0m\u001b[0mshow\u001b[0m\u001b[1;33m(\u001b[0m\u001b[1;33m)\u001b[0m\u001b[1;33m\u001b[0m\u001b[1;33m\u001b[0m\u001b[0m\n\u001b[0m",
      "\u001b[1;31mAttributeError\u001b[0m: 'NoneType' object has no attribute 'show'"
     ]
    }
   ],
   "source": [
    "class Point:\n",
    "    show1 = 0\n",
    "    show2 = 0\n",
    "    def __init__(self, num1, num2) :\n",
    "        self.show1 = num1\n",
    "        self.show2 = num2\n",
    "    def show(self) :\n",
    "        (a,b) = (self.show1,self.show2)\n",
    "        print((a,b))\n",
    "    def __add__(self,other) :\n",
    "        self.show1 = self.show1 + other.show1\n",
    "        self.show2 = self.show2 + other.show2\n",
    "        (a,b) = (self.show1,self.show2)\n",
    "        print((a,b))\n",
    "        \n",
    "        \n",
    "a = Point(1,2)\n",
    "a.show()\n",
    "\n",
    "b = Point(3,4)\n",
    "b.show()\n",
    "\n",
    "a = a+b\n",
    "a.show()"
   ]
  },
  {
   "cell_type": "code",
   "execution_count": 14,
   "id": "1907248e",
   "metadata": {},
   "outputs": [
    {
     "name": "stdout",
     "output_type": "stream",
     "text": [
      "Max Week = 2021-05-25 ~ 2021-05-25\n"
     ]
    }
   ],
   "source": [
    "import csv\n",
    "f = open('seoul.csv')\n",
    "data = csv.reader(f)\n",
    "header = next(data)\n",
    "\n",
    "diff = 0\n",
    "diff_sum = 0\n",
    "counter = 0\n",
    "max_sum = 0\n",
    "max_date = ''\n",
    "\n",
    "for row in data :\n",
    "    diff = float(row[-1]) - float(row[-2])\n",
    "    diff_sum = diff_sum + diff\n",
    "    if counter == 6 :\n",
    "        if diff_sum > max_sum :\n",
    "            max_sum = diff_sum\n",
    "            max_date = row[0]\n",
    "            counter = 0\n",
    "            diff_sum = 0\n",
    "    else : counter = counter +1\n",
    "        \n",
    "max_date_start = max_date\n",
    "        \n",
    "f.close()\n",
    "print('Max Week = {0:s} ~ {0:s}'.format(max_date_start, max_date))"
   ]
  },
  {
   "cell_type": "code",
   "execution_count": null,
   "id": "5d255396",
   "metadata": {},
   "outputs": [],
   "source": []
  }
 ],
 "metadata": {
  "kernelspec": {
   "display_name": "Python 3",
   "language": "python",
   "name": "python3"
  },
  "language_info": {
   "codemirror_mode": {
    "name": "ipython",
    "version": 3
   },
   "file_extension": ".py",
   "mimetype": "text/x-python",
   "name": "python",
   "nbconvert_exporter": "python",
   "pygments_lexer": "ipython3",
   "version": "3.8.2"
  }
 },
 "nbformat": 4,
 "nbformat_minor": 5
}
