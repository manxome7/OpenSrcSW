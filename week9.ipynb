{
 "cells": [
  {
   "cell_type": "code",
   "execution_count": 1,
   "id": "95172c00",
   "metadata": {
    "scrolled": false
   },
   "outputs": [
    {
     "name": "stdout",
     "output_type": "stream",
     "text": [
      "x값을 입력하세요 : 3\n",
      "y값은 45 입니다\n"
     ]
    }
   ],
   "source": [
    "x = int(input(\"x값을 입력하세요 : \"))\n",
    "y = 3*x**2 + 5*x +3\n",
    "print(\"y값은\",y,\"입니다\")"
   ]
  },
  {
   "cell_type": "code",
   "execution_count": 10,
   "id": "96bce670",
   "metadata": {},
   "outputs": [
    {
     "name": "stdout",
     "output_type": "stream",
     "text": [
      "반지름 값을 입력하세요 : 3\n",
      "원의 둘레 : 18.84\n",
      "원의 넓이 : 28.26\n"
     ]
    }
   ],
   "source": [
    "r = int(input(\"반지름 값을 입력하세요 : \"))\n",
    "pi = 3.14\n",
    "d = r*2*3.14\n",
    "s = r**2*3.14\n",
    "print(\"원의 둘레 :\",d)\n",
    "print(\"원의 넓이 :\",s)"
   ]
  }
 ],
 "metadata": {
  "kernelspec": {
   "display_name": "Python 3",
   "language": "python",
   "name": "python3"
  },
  "language_info": {
   "codemirror_mode": {
    "name": "ipython",
    "version": 3
   },
   "file_extension": ".py",
   "mimetype": "text/x-python",
   "name": "python",
   "nbconvert_exporter": "python",
   "pygments_lexer": "ipython3",
   "version": "3.8.2"
  }
 },
 "nbformat": 4,
 "nbformat_minor": 5
}
